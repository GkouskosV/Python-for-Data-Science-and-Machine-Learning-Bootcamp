{
 "cells": [
  {
   "cell_type": "markdown",
   "metadata": {},
   "source": [
    "# Tensorboard\n",
    "\n",
    "---\n",
    "---\n",
    "\n",
    "**NOTE: You must watch the corresponding video to understand this lecture. This notebook can't serve as a full guide. Please watch the video BEFORE posting questions to the QA forum.**\n",
    "\n",
    "---\n",
    "---\n",
    "\n",
    "Let's explore the built in data visualization capabilities that come with Tensorboard.\n",
    "\n",
    "Full official tutorial available here: https://www.tensorflow.org/tensorboard/get_started\n",
    "\n",
    "## Data"
   ]
  },
  {
   "cell_type": "code",
   "execution_count": 1,
   "metadata": {},
   "outputs": [],
   "source": [
    "import pandas as pd\n",
    "import numpy as np"
   ]
  },
  {
   "cell_type": "code",
   "execution_count": 2,
   "metadata": {},
   "outputs": [],
   "source": [
    "df = pd.read_csv('DATA/cancer_classification.csv')"
   ]
  },
  {
   "cell_type": "markdown",
   "metadata": {},
   "source": [
    "### Train Test Split"
   ]
  },
  {
   "cell_type": "code",
   "execution_count": 4,
   "metadata": {},
   "outputs": [],
   "source": [
    "X = df.drop('benign_0__mal_1',axis=1).values\n",
    "y = df['benign_0__mal_1'].values"
   ]
  },
  {
   "cell_type": "code",
   "execution_count": 5,
   "metadata": {},
   "outputs": [],
   "source": [
    "from sklearn.model_selection import train_test_split"
   ]
  },
  {
   "cell_type": "code",
   "execution_count": 6,
   "metadata": {},
   "outputs": [],
   "source": [
    "X_train, X_test, y_train, y_test = train_test_split(X, y, test_size=0.25, random_state=101)"
   ]
  },
  {
   "cell_type": "markdown",
   "metadata": {},
   "source": [
    "\n",
    "### Scaling Data"
   ]
  },
  {
   "cell_type": "code",
   "execution_count": 7,
   "metadata": {},
   "outputs": [],
   "source": [
    "from sklearn.preprocessing import MinMaxScaler"
   ]
  },
  {
   "cell_type": "code",
   "execution_count": 9,
   "metadata": {},
   "outputs": [],
   "source": [
    "scaler = MinMaxScaler()"
   ]
  },
  {
   "cell_type": "code",
   "execution_count": 10,
   "metadata": {},
   "outputs": [],
   "source": [
    "X_train = scaler.fit_transform(X_train)"
   ]
  },
  {
   "cell_type": "code",
   "execution_count": 11,
   "metadata": {},
   "outputs": [],
   "source": [
    "X_test = scaler.transform(X_test)"
   ]
  },
  {
   "cell_type": "markdown",
   "metadata": {},
   "source": [
    "## Creating the Model"
   ]
  },
  {
   "cell_type": "code",
   "execution_count": 12,
   "metadata": {},
   "outputs": [],
   "source": [
    "import tensorflow as tf\n",
    "from tensorflow.keras.models import Sequential\n",
    "from tensorflow.keras.layers import Dense,Dropout"
   ]
  },
  {
   "cell_type": "code",
   "execution_count": 13,
   "metadata": {},
   "outputs": [],
   "source": [
    "from tensorflow.keras.callbacks import EarlyStopping, TensorBoard"
   ]
  },
  {
   "cell_type": "code",
   "execution_count": 14,
   "metadata": {},
   "outputs": [],
   "source": [
    "early_stop = EarlyStopping(monitor='val_loss', mode='min', verbose=1, patience=25)"
   ]
  },
  {
   "cell_type": "markdown",
   "metadata": {},
   "source": [
    "## Creating the Tensorboard Callback\n",
    "\n",
    "TensorBoard is a visualization tool provided with TensorFlow.\n",
    "\n",
    "This callback logs events for TensorBoard, including:\n",
    "* Metrics summary plots\n",
    "* Training graph visualization\n",
    "* Activation histograms\n",
    "* Sampled profiling\n",
    "\n",
    "If you have installed TensorFlow with pip, you should be able\n",
    "to launch TensorBoard from the command line:\n",
    "\n",
    "```sh\n",
    "tensorboard --logdir=path_to_your_logs\n",
    "```\n",
    "\n",
    "You can find more information about TensorBoard\n",
    "[here](https://www.tensorflow.org/tensorboard/).\n",
    "\n",
    "    Arguments:\n",
    "        log_dir: the path of the directory where to save the log files to be\n",
    "          parsed by TensorBoard.\n",
    "        histogram_freq: frequency (in epochs) at which to compute activation and\n",
    "          weight histograms for the layers of the model. If set to 0, histograms\n",
    "          won't be computed. Validation data (or split) must be specified for\n",
    "          histogram visualizations.\n",
    "        write_graph: whether to visualize the graph in TensorBoard. The log file\n",
    "          can become quite large when write_graph is set to True.\n",
    "        write_images: whether to write model weights to visualize as image in\n",
    "          TensorBoard.\n",
    "        update_freq: `'batch'` or `'epoch'` or integer. When using `'batch'`,\n",
    "          writes the losses and metrics to TensorBoard after each batch. The same\n",
    "          applies for `'epoch'`. If using an integer, let's say `1000`, the\n",
    "          callback will write the metrics and losses to TensorBoard every 1000\n",
    "          samples. Note that writing too frequently to TensorBoard can slow down\n",
    "          your training.\n",
    "        profile_batch: Profile the batch to sample compute characteristics. By\n",
    "          default, it will profile the second batch. Set profile_batch=0 to\n",
    "          disable profiling. Must run in TensorFlow eager mode.\n",
    "        embeddings_freq: frequency (in epochs) at which embedding layers will\n",
    "          be visualized. If set to 0, embeddings won't be visualized.\n",
    "       "
   ]
  },
  {
   "cell_type": "code",
   "execution_count": 16,
   "metadata": {},
   "outputs": [],
   "source": [
    "from datetime import datetime"
   ]
  },
  {
   "cell_type": "code",
   "execution_count": 17,
   "metadata": {},
   "outputs": [
    {
     "data": {
      "text/plain": [
       "'2020-03-11--1943'"
      ]
     },
     "execution_count": 17,
     "metadata": {},
     "output_type": "execute_result"
    }
   ],
   "source": [
    "datetime.now().strftime(\"%Y-%m-%d--%H%M\")"
   ]
  },
  {
   "cell_type": "code",
   "execution_count": 20,
   "metadata": {},
   "outputs": [],
   "source": [
    "log_directory = 'logs/fit'"
   ]
  },
  {
   "cell_type": "code",
   "execution_count": 21,
   "metadata": {},
   "outputs": [],
   "source": [
    "board = TensorBoard(log_dir=log_directory,\n",
    "                   histogram_freq=1,\n",
    "                   write_graph=True,\n",
    "                   write_images=True,\n",
    "                   update_freq='epoch',\n",
    "                   profile_batch=2,\n",
    "                   embeddings_freq=1)"
   ]
  },
  {
   "cell_type": "markdown",
   "metadata": {},
   "source": [
    "Now create the model layers:"
   ]
  },
  {
   "cell_type": "code",
   "execution_count": 22,
   "metadata": {},
   "outputs": [],
   "source": [
    "model = Sequential()\n",
    "\n",
    "model.add(Dense(units=30,activation='relu'))\n",
    "model.add(Dropout(0.5))\n",
    "\n",
    "model.add(Dense(units=15,activation='relu'))\n",
    "model.add(Dropout(0.5))\n",
    "\n",
    "model.add(Dense(units=1,activation='sigmoid'))\n",
    "\n",
    "model.compile(loss='binary_crossentropy', optimizer='adam')"
   ]
  },
  {
   "cell_type": "markdown",
   "metadata": {},
   "source": [
    "## Train the Model"
   ]
  },
  {
   "cell_type": "code",
   "execution_count": 23,
   "metadata": {},
   "outputs": [
    {
     "name": "stdout",
     "output_type": "stream",
     "text": [
      "Train on 426 samples, validate on 143 samples\n",
      "Epoch 1/600\n",
      "426/426 [==============================] - 1s 2ms/sample - loss: 0.7184 - val_loss: 0.6900\n",
      "Epoch 2/600\n",
      "426/426 [==============================] - 0s 430us/sample - loss: 0.6949 - val_loss: 0.6674\n",
      "Epoch 3/600\n",
      "426/426 [==============================] - 0s 313us/sample - loss: 0.6820 - val_loss: 0.6510\n",
      "Epoch 4/600\n",
      "426/426 [==============================] - 0s 365us/sample - loss: 0.6613 - val_loss: 0.6313\n",
      "Epoch 5/600\n",
      "426/426 [==============================] - 0s 409us/sample - loss: 0.6418 - val_loss: 0.6119\n",
      "Epoch 6/600\n",
      "426/426 [==============================] - 0s 361us/sample - loss: 0.6196 - val_loss: 0.5880\n",
      "Epoch 7/600\n",
      "426/426 [==============================] - 0s 340us/sample - loss: 0.5990 - val_loss: 0.5626\n",
      "Epoch 8/600\n",
      "426/426 [==============================] - 0s 309us/sample - loss: 0.5677 - val_loss: 0.5318\n",
      "Epoch 9/600\n",
      "426/426 [==============================] - 0s 334us/sample - loss: 0.5501 - val_loss: 0.5012\n",
      "Epoch 10/600\n",
      "426/426 [==============================] - 0s 308us/sample - loss: 0.5483 - val_loss: 0.4749\n",
      "Epoch 11/600\n",
      "426/426 [==============================] - 0s 382us/sample - loss: 0.5114 - val_loss: 0.4449\n",
      "Epoch 12/600\n",
      "426/426 [==============================] - 0s 289us/sample - loss: 0.4910 - val_loss: 0.4165\n",
      "Epoch 13/600\n",
      "426/426 [==============================] - 0s 304us/sample - loss: 0.4692 - val_loss: 0.3859\n",
      "Epoch 14/600\n",
      "426/426 [==============================] - 0s 250us/sample - loss: 0.4567 - val_loss: 0.3665\n",
      "Epoch 15/600\n",
      "426/426 [==============================] - 0s 332us/sample - loss: 0.4335 - val_loss: 0.3433\n",
      "Epoch 16/600\n",
      "426/426 [==============================] - 0s 448us/sample - loss: 0.4031 - val_loss: 0.3177\n",
      "Epoch 17/600\n",
      "426/426 [==============================] - 0s 320us/sample - loss: 0.3876 - val_loss: 0.2995\n",
      "Epoch 18/600\n",
      "426/426 [==============================] - 0s 292us/sample - loss: 0.3722 - val_loss: 0.2754\n",
      "Epoch 19/600\n",
      "426/426 [==============================] - 0s 260us/sample - loss: 0.3538 - val_loss: 0.2579\n",
      "Epoch 20/600\n",
      "426/426 [==============================] - 0s 241us/sample - loss: 0.3426 - val_loss: 0.2421\n",
      "Epoch 21/600\n",
      "426/426 [==============================] - 0s 261us/sample - loss: 0.3432 - val_loss: 0.2328\n",
      "Epoch 22/600\n",
      "426/426 [==============================] - 0s 449us/sample - loss: 0.3155 - val_loss: 0.2200\n",
      "Epoch 23/600\n",
      "426/426 [==============================] - 0s 443us/sample - loss: 0.3039 - val_loss: 0.2156\n",
      "Epoch 24/600\n",
      "426/426 [==============================] - 0s 191us/sample - loss: 0.3245 - val_loss: 0.2018\n",
      "Epoch 25/600\n",
      "426/426 [==============================] - 0s 407us/sample - loss: 0.3000 - val_loss: 0.1926\n",
      "Epoch 26/600\n",
      "426/426 [==============================] - 0s 276us/sample - loss: 0.2962 - val_loss: 0.1883\n",
      "Epoch 27/600\n",
      "426/426 [==============================] - 0s 256us/sample - loss: 0.3009 - val_loss: 0.1800\n",
      "Epoch 28/600\n",
      "426/426 [==============================] - 0s 179us/sample - loss: 0.2611 - val_loss: 0.1706\n",
      "Epoch 29/600\n",
      "426/426 [==============================] - 0s 257us/sample - loss: 0.2915 - val_loss: 0.1616\n",
      "Epoch 30/600\n",
      "426/426 [==============================] - 0s 388us/sample - loss: 0.2444 - val_loss: 0.1601\n",
      "Epoch 31/600\n",
      "426/426 [==============================] - 0s 389us/sample - loss: 0.2597 - val_loss: 0.1571\n",
      "Epoch 32/600\n",
      "426/426 [==============================] - 0s 227us/sample - loss: 0.2617 - val_loss: 0.1524\n",
      "Epoch 33/600\n",
      "426/426 [==============================] - 0s 295us/sample - loss: 0.2167 - val_loss: 0.1425\n",
      "Epoch 34/600\n",
      "426/426 [==============================] - 0s 238us/sample - loss: 0.2526 - val_loss: 0.1407\n",
      "Epoch 35/600\n",
      "426/426 [==============================] - 0s 232us/sample - loss: 0.2265 - val_loss: 0.1402\n",
      "Epoch 36/600\n",
      "426/426 [==============================] - 0s 267us/sample - loss: 0.2085 - val_loss: 0.1372\n",
      "Epoch 37/600\n",
      "426/426 [==============================] - 0s 206us/sample - loss: 0.2050 - val_loss: 0.1288\n",
      "Epoch 38/600\n",
      "426/426 [==============================] - 0s 231us/sample - loss: 0.2310 - val_loss: 0.1310\n",
      "Epoch 39/600\n",
      "426/426 [==============================] - 0s 233us/sample - loss: 0.2230 - val_loss: 0.1272\n",
      "Epoch 40/600\n",
      "426/426 [==============================] - 0s 252us/sample - loss: 0.1926 - val_loss: 0.1341\n",
      "Epoch 41/600\n",
      "426/426 [==============================] - 0s 214us/sample - loss: 0.2124 - val_loss: 0.1244\n",
      "Epoch 42/600\n",
      "426/426 [==============================] - 0s 189us/sample - loss: 0.2052 - val_loss: 0.1173\n",
      "Epoch 43/600\n",
      "426/426 [==============================] - 0s 187us/sample - loss: 0.2225 - val_loss: 0.1235\n",
      "Epoch 44/600\n",
      "426/426 [==============================] - 0s 216us/sample - loss: 0.2025 - val_loss: 0.1224\n",
      "Epoch 45/600\n",
      "426/426 [==============================] - 0s 207us/sample - loss: 0.1894 - val_loss: 0.1164\n",
      "Epoch 46/600\n",
      "426/426 [==============================] - 0s 245us/sample - loss: 0.1879 - val_loss: 0.1133\n",
      "Epoch 47/600\n",
      "426/426 [==============================] - 0s 170us/sample - loss: 0.1999 - val_loss: 0.1137\n",
      "Epoch 48/600\n",
      "426/426 [==============================] - 0s 214us/sample - loss: 0.1940 - val_loss: 0.1108\n",
      "Epoch 49/600\n",
      "426/426 [==============================] - 0s 193us/sample - loss: 0.1916 - val_loss: 0.1100\n",
      "Epoch 50/600\n",
      "426/426 [==============================] - 0s 193us/sample - loss: 0.1574 - val_loss: 0.1076\n",
      "Epoch 51/600\n",
      "426/426 [==============================] - 0s 163us/sample - loss: 0.1726 - val_loss: 0.1041\n",
      "Epoch 52/600\n",
      "426/426 [==============================] - 0s 144us/sample - loss: 0.1551 - val_loss: 0.0998\n",
      "Epoch 53/600\n",
      "426/426 [==============================] - 0s 166us/sample - loss: 0.1455 - val_loss: 0.1003\n",
      "Epoch 54/600\n",
      "426/426 [==============================] - 0s 140us/sample - loss: 0.1422 - val_loss: 0.0968\n",
      "Epoch 55/600\n",
      "426/426 [==============================] - 0s 182us/sample - loss: 0.1401 - val_loss: 0.0977\n",
      "Epoch 56/600\n",
      "426/426 [==============================] - 0s 248us/sample - loss: 0.1410 - val_loss: 0.0947\n",
      "Epoch 57/600\n",
      "426/426 [==============================] - 0s 535us/sample - loss: 0.1404 - val_loss: 0.1041\n",
      "Epoch 58/600\n",
      "426/426 [==============================] - 0s 416us/sample - loss: 0.1367 - val_loss: 0.0929\n",
      "Epoch 59/600\n",
      "426/426 [==============================] - 0s 260us/sample - loss: 0.1646 - val_loss: 0.0986\n",
      "Epoch 60/600\n",
      "426/426 [==============================] - 0s 238us/sample - loss: 0.1580 - val_loss: 0.1015\n",
      "Epoch 61/600\n",
      "426/426 [==============================] - 0s 180us/sample - loss: 0.1414 - val_loss: 0.0975\n",
      "Epoch 62/600\n",
      "426/426 [==============================] - 0s 222us/sample - loss: 0.1358 - val_loss: 0.0991\n",
      "Epoch 63/600\n",
      "426/426 [==============================] - 0s 281us/sample - loss: 0.1384 - val_loss: 0.0991\n",
      "Epoch 64/600\n",
      "426/426 [==============================] - 0s 229us/sample - loss: 0.1315 - val_loss: 0.0990\n",
      "Epoch 65/600\n",
      "426/426 [==============================] - 0s 206us/sample - loss: 0.1632 - val_loss: 0.0944\n",
      "Epoch 66/600\n",
      "426/426 [==============================] - 0s 193us/sample - loss: 0.1251 - val_loss: 0.0948\n",
      "Epoch 67/600\n",
      "426/426 [==============================] - 0s 226us/sample - loss: 0.1205 - val_loss: 0.0957\n",
      "Epoch 68/600\n",
      "426/426 [==============================] - 0s 237us/sample - loss: 0.1210 - val_loss: 0.0995\n",
      "Epoch 69/600\n",
      "426/426 [==============================] - 0s 237us/sample - loss: 0.1422 - val_loss: 0.0912\n",
      "Epoch 70/600\n",
      "426/426 [==============================] - 0s 205us/sample - loss: 0.1282 - val_loss: 0.0955\n",
      "Epoch 71/600\n",
      "426/426 [==============================] - 0s 241us/sample - loss: 0.1253 - val_loss: 0.1040\n",
      "Epoch 72/600\n",
      "426/426 [==============================] - 0s 247us/sample - loss: 0.1336 - val_loss: 0.0968\n",
      "Epoch 73/600\n",
      "426/426 [==============================] - 0s 217us/sample - loss: 0.1339 - val_loss: 0.0896\n",
      "Epoch 74/600\n",
      "426/426 [==============================] - 0s 226us/sample - loss: 0.1235 - val_loss: 0.0938\n",
      "Epoch 75/600\n",
      "426/426 [==============================] - 0s 215us/sample - loss: 0.1277 - val_loss: 0.0888\n",
      "Epoch 76/600\n",
      "426/426 [==============================] - 0s 248us/sample - loss: 0.1191 - val_loss: 0.0952\n",
      "Epoch 77/600\n",
      "426/426 [==============================] - 0s 216us/sample - loss: 0.1299 - val_loss: 0.0947\n"
     ]
    },
    {
     "name": "stdout",
     "output_type": "stream",
     "text": [
      "Epoch 78/600\n",
      "426/426 [==============================] - 0s 231us/sample - loss: 0.0997 - val_loss: 0.0957\n",
      "Epoch 79/600\n",
      "426/426 [==============================] - 0s 170us/sample - loss: 0.1089 - val_loss: 0.1014\n",
      "Epoch 80/600\n",
      "426/426 [==============================] - 0s 171us/sample - loss: 0.1298 - val_loss: 0.0864\n",
      "Epoch 81/600\n",
      "426/426 [==============================] - 0s 159us/sample - loss: 0.1152 - val_loss: 0.0877\n",
      "Epoch 82/600\n",
      "426/426 [==============================] - 0s 145us/sample - loss: 0.1127 - val_loss: 0.0963\n",
      "Epoch 83/600\n",
      "426/426 [==============================] - 0s 159us/sample - loss: 0.1121 - val_loss: 0.0943\n",
      "Epoch 84/600\n",
      "426/426 [==============================] - 0s 161us/sample - loss: 0.1060 - val_loss: 0.0889\n",
      "Epoch 85/600\n",
      "426/426 [==============================] - 0s 214us/sample - loss: 0.1278 - val_loss: 0.0930\n",
      "Epoch 86/600\n",
      "426/426 [==============================] - 0s 175us/sample - loss: 0.1043 - val_loss: 0.0936\n",
      "Epoch 87/600\n",
      "426/426 [==============================] - 0s 268us/sample - loss: 0.1119 - val_loss: 0.0932\n",
      "Epoch 88/600\n",
      "426/426 [==============================] - 0s 337us/sample - loss: 0.1301 - val_loss: 0.0884\n",
      "Epoch 89/600\n",
      "426/426 [==============================] - 0s 266us/sample - loss: 0.1086 - val_loss: 0.0882\n",
      "Epoch 90/600\n",
      "426/426 [==============================] - 0s 186us/sample - loss: 0.0972 - val_loss: 0.0912\n",
      "Epoch 91/600\n",
      "426/426 [==============================] - 0s 197us/sample - loss: 0.1013 - val_loss: 0.0895\n",
      "Epoch 92/600\n",
      "426/426 [==============================] - 0s 217us/sample - loss: 0.1370 - val_loss: 0.0915\n",
      "Epoch 93/600\n",
      "426/426 [==============================] - 0s 172us/sample - loss: 0.1107 - val_loss: 0.1195\n",
      "Epoch 94/600\n",
      "426/426 [==============================] - 0s 199us/sample - loss: 0.1091 - val_loss: 0.0877\n",
      "Epoch 95/600\n",
      "426/426 [==============================] - 0s 224us/sample - loss: 0.1119 - val_loss: 0.0844\n",
      "Epoch 96/600\n",
      "426/426 [==============================] - 0s 205us/sample - loss: 0.1115 - val_loss: 0.0875\n",
      "Epoch 97/600\n",
      "426/426 [==============================] - 0s 239us/sample - loss: 0.0963 - val_loss: 0.0920\n",
      "Epoch 98/600\n",
      "426/426 [==============================] - 0s 445us/sample - loss: 0.0894 - val_loss: 0.0850\n",
      "Epoch 99/600\n",
      "426/426 [==============================] - 0s 270us/sample - loss: 0.0838 - val_loss: 0.0858\n",
      "Epoch 100/600\n",
      "426/426 [==============================] - 0s 305us/sample - loss: 0.0928 - val_loss: 0.0884\n",
      "Epoch 101/600\n",
      "426/426 [==============================] - 0s 240us/sample - loss: 0.0981 - val_loss: 0.0916\n",
      "Epoch 102/600\n",
      "426/426 [==============================] - 0s 293us/sample - loss: 0.0917 - val_loss: 0.0918\n",
      "Epoch 103/600\n",
      "426/426 [==============================] - 0s 168us/sample - loss: 0.1109 - val_loss: 0.0879\n",
      "Epoch 104/600\n",
      "426/426 [==============================] - 0s 214us/sample - loss: 0.1019 - val_loss: 0.1081\n",
      "Epoch 105/600\n",
      "426/426 [==============================] - 0s 166us/sample - loss: 0.0987 - val_loss: 0.0872\n",
      "Epoch 106/600\n",
      "426/426 [==============================] - 0s 179us/sample - loss: 0.0965 - val_loss: 0.0907\n",
      "Epoch 107/600\n",
      "426/426 [==============================] - 0s 176us/sample - loss: 0.1144 - val_loss: 0.0975\n",
      "Epoch 108/600\n",
      "426/426 [==============================] - 0s 177us/sample - loss: 0.1031 - val_loss: 0.0927\n",
      "Epoch 109/600\n",
      "426/426 [==============================] - 0s 143us/sample - loss: 0.0789 - val_loss: 0.0905\n",
      "Epoch 110/600\n",
      "426/426 [==============================] - 0s 171us/sample - loss: 0.0860 - val_loss: 0.0920\n",
      "Epoch 111/600\n",
      "426/426 [==============================] - 0s 156us/sample - loss: 0.1127 - val_loss: 0.0948\n",
      "Epoch 112/600\n",
      "426/426 [==============================] - 0s 185us/sample - loss: 0.0921 - val_loss: 0.0829\n",
      "Epoch 113/600\n",
      "426/426 [==============================] - 0s 230us/sample - loss: 0.0939 - val_loss: 0.0905\n",
      "Epoch 114/600\n",
      "426/426 [==============================] - 0s 274us/sample - loss: 0.0968 - val_loss: 0.0997\n",
      "Epoch 115/600\n",
      "426/426 [==============================] - 0s 219us/sample - loss: 0.0987 - val_loss: 0.0877\n",
      "Epoch 116/600\n",
      "426/426 [==============================] - 0s 220us/sample - loss: 0.0968 - val_loss: 0.0974\n",
      "Epoch 117/600\n",
      "426/426 [==============================] - 0s 168us/sample - loss: 0.0992 - val_loss: 0.0924\n",
      "Epoch 118/600\n",
      "426/426 [==============================] - 0s 141us/sample - loss: 0.1061 - val_loss: 0.0884\n",
      "Epoch 119/600\n",
      "426/426 [==============================] - 0s 215us/sample - loss: 0.0813 - val_loss: 0.0916\n",
      "Epoch 120/600\n",
      "426/426 [==============================] - 0s 159us/sample - loss: 0.0877 - val_loss: 0.0872\n",
      "Epoch 121/600\n",
      "426/426 [==============================] - 0s 254us/sample - loss: 0.0982 - val_loss: 0.0848\n",
      "Epoch 122/600\n",
      "426/426 [==============================] - 0s 206us/sample - loss: 0.1046 - val_loss: 0.0973\n",
      "Epoch 123/600\n",
      "426/426 [==============================] - 0s 261us/sample - loss: 0.1035 - val_loss: 0.0940\n",
      "Epoch 124/600\n",
      "426/426 [==============================] - 0s 167us/sample - loss: 0.0890 - val_loss: 0.0921\n",
      "Epoch 125/600\n",
      "426/426 [==============================] - 0s 178us/sample - loss: 0.1047 - val_loss: 0.0870\n",
      "Epoch 126/600\n",
      "426/426 [==============================] - 0s 165us/sample - loss: 0.0824 - val_loss: 0.0851\n",
      "Epoch 127/600\n",
      "426/426 [==============================] - 0s 285us/sample - loss: 0.0778 - val_loss: 0.0904\n",
      "Epoch 128/600\n",
      "426/426 [==============================] - 0s 259us/sample - loss: 0.0964 - val_loss: 0.0904\n",
      "Epoch 129/600\n",
      "426/426 [==============================] - 0s 239us/sample - loss: 0.0962 - val_loss: 0.1169\n",
      "Epoch 130/600\n",
      "426/426 [==============================] - 0s 238us/sample - loss: 0.0964 - val_loss: 0.0852\n",
      "Epoch 131/600\n",
      "426/426 [==============================] - 0s 255us/sample - loss: 0.0776 - val_loss: 0.0910\n",
      "Epoch 132/600\n",
      "426/426 [==============================] - 0s 221us/sample - loss: 0.0846 - val_loss: 0.1124\n",
      "Epoch 133/600\n",
      "426/426 [==============================] - 0s 185us/sample - loss: 0.0860 - val_loss: 0.0973\n",
      "Epoch 134/600\n",
      "426/426 [==============================] - 0s 199us/sample - loss: 0.0805 - val_loss: 0.0914\n",
      "Epoch 135/600\n",
      "426/426 [==============================] - 0s 185us/sample - loss: 0.1054 - val_loss: 0.0878\n",
      "Epoch 136/600\n",
      "426/426 [==============================] - 0s 170us/sample - loss: 0.0962 - val_loss: 0.0938\n",
      "Epoch 137/600\n",
      "426/426 [==============================] - 0s 164us/sample - loss: 0.0840 - val_loss: 0.0969\n",
      "Epoch 00137: early stopping\n"
     ]
    },
    {
     "data": {
      "text/plain": [
       "<tensorflow.python.keras.callbacks.History at 0x7efbb117d790>"
      ]
     },
     "execution_count": 23,
     "metadata": {},
     "output_type": "execute_result"
    }
   ],
   "source": [
    "model.fit(x=X_train,\n",
    "         y=y_train,\n",
    "         validation_data=(X_test,y_test),\n",
    "         epochs=600,\n",
    "         callbacks=[early_stop,board],\n",
    "         verbose=1)"
   ]
  },
  {
   "cell_type": "markdown",
   "metadata": {},
   "source": [
    "# Running Tensorboard\n"
   ]
  },
  {
   "cell_type": "markdown",
   "metadata": {},
   "source": [
    "## Running through the Command Line\n",
    "\n",
    "**Watch video to see how to run Tensorboard through a command line call.**"
   ]
  },
  {
   "cell_type": "markdown",
   "metadata": {},
   "source": [
    "Tensorboard will run locally in your browser at [http://localhost:6006/](http://localhost:6006/)\n"
   ]
  },
  {
   "cell_type": "code",
   "execution_count": 24,
   "metadata": {},
   "outputs": [
    {
     "name": "stdout",
     "output_type": "stream",
     "text": [
      "logs/fit\n"
     ]
    }
   ],
   "source": [
    "print(log_directory)"
   ]
  },
  {
   "cell_type": "markdown",
   "metadata": {},
   "source": [
    "### Use cd at your command line to change directory to the file path reported back by pwd or your current .py file location.\n",
    "### Then run this code at your command line or terminal"
   ]
  },
  {
   "cell_type": "code",
   "execution_count": null,
   "metadata": {},
   "outputs": [],
   "source": [
    "tensorboard --logdir logs\\fit "
   ]
  }
 ],
 "metadata": {
  "kernelspec": {
   "display_name": "Python 3",
   "language": "python",
   "name": "python3"
  },
  "language_info": {
   "codemirror_mode": {
    "name": "ipython",
    "version": 3
   },
   "file_extension": ".py",
   "mimetype": "text/x-python",
   "name": "python",
   "nbconvert_exporter": "python",
   "pygments_lexer": "ipython3",
   "version": "3.7.5"
  }
 },
 "nbformat": 4,
 "nbformat_minor": 4
}

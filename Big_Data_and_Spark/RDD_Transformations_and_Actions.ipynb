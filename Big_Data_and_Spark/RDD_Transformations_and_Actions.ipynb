{
 "cells": [
  {
   "cell_type": "markdown",
   "metadata": {},
   "source": [
    "\n",
    "# RDD Transformations and Actions\n",
    "\n",
    "In this lecture we will begin to delve deeper into using Spark and Python. Please view the video lecture for a full explanation.\n",
    "## Important Terms\n",
    "\n",
    "Let's quickly go over some important terms:<br>\n",
    "\n",
    "|Term \t|Definition\n",
    "|----    |------|\n",
    "|RDD |Resilient Distributed Dataset|\n",
    "|Transformation |Spark operation that produces an RDD|\n",
    "|Action \t|Spark operation that produces a local object|\n",
    "|Spark Job \t|Sequence of transformations on data with a final action|\n",
    "\n",
    "## Creating an RDD\n",
    "\n",
    "There are two common ways to create an RDD:<br>\n",
    "\n",
    "|Method   |Result|\n",
    "|----|------|\n",
    "|sc.parallelize(array) |Create RDD of elements of array (or list)|\n",
    "|sc.textFile(path/to/file) |Create RDD of lines from file|\n",
    "\n",
    "## RDD Transformations\n",
    "\n",
    "We can use transformations to create a set of instructions we want to preform on the RDD (before we call an action and actually execute them).\n",
    "\n",
    "|Transformation Example \t|Result\n",
    "|----|-------|\n",
    "|filter(lambda x: x % 2 == 0) |Discard non-even elements\n",
    "|map(lambda x: x * 2) \t|Multiply each RDD element by 2\n",
    "|map(lambda x: x.split()) \t|Split each string into words\n",
    "|flatMap(lambda x: x.split()) \t|Split each string into words and flatten sequence\n",
    "|sample(withReplacement=True,0.25) \t|Create sample of 25% of elements with replacement\n",
    "|union(rdd) \t|Append rdd to existing RDD\n",
    "|distinct() \t|Remove duplicates in RDD\n",
    "|sortBy(lambda x: x, ascending=False) |\tSort elements in descending order\n",
    "\n",
    "## RDD Actions\n",
    "\n",
    "Once you have your 'recipe' of transformations ready, what you will do next is execute them by calling an action. Here are some common actions:\n",
    "\n",
    "|Action \t|Result|\n",
    "|----|----|\n",
    "|collect() \t|Convert RDD to in-memory list\n",
    "|take(3) \t|First 3 elements of RDD\n",
    "|top(3) \t|Top 3 elements of RDD\n",
    "|takeSample(withReplacement=True,3) |\tCreate sample of 3 elements with replacement\n",
    "|sum() \t|Find element sum (assumes numeric elements)\n",
    "|mean() \t|Find element mean (assumes numeric elements)\n",
    "|stdev() |\tFind element deviation (assumes numeric elements)\n",
    "----\n",
    "## Examples\n",
    "\n",
    "Now the best way to show all of this is by going through examples! We'll first review a bit by creating and working with a simple text file, then we will move on to more realistic data, such as customers and sales data.\n",
    "### Creating an RDD from a text file:\n",
    "\n",
    "\n",
    "**Creating the textfile**"
   ]
  },
  {
   "cell_type": "code",
   "execution_count": null,
   "metadata": {
    "collapsed": true
   },
   "outputs": [],
   "source": []
  },
  {
   "cell_type": "code",
   "execution_count": null,
   "metadata": {
    "collapsed": true
   },
   "outputs": [],
   "source": []
  }
 ],
 "metadata": {
  "anaconda-cloud": {},
  "kernelspec": {
   "display_name": "Python [Root]",
   "language": "python",
   "name": "Python [Root]"
  },
  "language_info": {
   "codemirror_mode": {
    "name": "ipython",
    "version": 3
   },
   "file_extension": ".py",
   "mimetype": "text/x-python",
   "name": "python",
   "nbconvert_exporter": "python",
   "pygments_lexer": "ipython3",
   "version": "3.5.2"
  }
 },
 "nbformat": 4,
 "nbformat_minor": 0
}
